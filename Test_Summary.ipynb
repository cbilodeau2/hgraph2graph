{
 "cells": [
  {
   "cell_type": "code",
   "execution_count": 29,
   "metadata": {},
   "outputs": [],
   "source": [
    "import numpy as np\n",
    "import seaborn as sns\n",
    "import pandas as pd\n",
    "import matplotlib as mpl\n",
    "import matplotlib.pyplot as plt\n",
    "import matplotlib.gridspec as gridspec\n",
    "import torch\n",
    "import sys\n",
    "import os\n",
    "from rdkit import Chem\n",
    "from rdkit import DataStructs\n",
    "\n",
    "from sklearn.metrics import r2_score\n",
    "from sklearn.metrics import mean_absolute_error\n",
    "from sklearn.metrics import mean_squared_error"
   ]
  },
  {
   "cell_type": "code",
   "execution_count": 30,
   "metadata": {},
   "outputs": [],
   "source": [
    "# All paths need to be set correctly:\n",
    "results_folder = 'checkpoints/solvation/solvation_1600177098/results_bottom'\n",
    "results_path = os.path.join(results_folder,'results.csv')\n",
    "data_path = 'data/solvation/bottom.txt'\n",
    "chemprop_path = '/data/rsg/chemistry/cbilod/chemprop'\n",
    "fold_path='/data/rsg/chemistry/cbilod/chemprop/checkpoints/NoFeat_OneMol/sol_noopt-1597338722/fold_0'"
   ]
  },
  {
   "cell_type": "code",
   "execution_count": 31,
   "metadata": {},
   "outputs": [
    {
     "data": {
      "text/plain": [
       "0"
      ]
     },
     "execution_count": 31,
     "metadata": {},
     "output_type": "execute_result"
    }
   ],
   "source": [
    "results = pd.read_csv(results_path,sep=' ',header=None)\n",
    "results[0].to_csv(os.path.join(results_folder,'col1.csv'),index=False)\n",
    "results[1].to_csv(os.path.join(results_folder,'col2.csv'),index=False)\n",
    "os.system('python '+chemprop_path+'/predict.py --test_path '+os.path.join(results_folder,'col1.csv')+' --checkpoint_dir '+fold_path+' --preds_path '+os.path.join(results_folder,'preds_col1.csv'))\n",
    "os.system('python '+chemprop_path+'/predict.py --test_path '+os.path.join(results_folder,'col2.csv')+' --checkpoint_dir '+fold_path+' --preds_path '+os.path.join(results_folder,'preds_col2.csv'))"
   ]
  },
  {
   "cell_type": "code",
   "execution_count": 32,
   "metadata": {},
   "outputs": [],
   "source": [
    "preds1 = pd.read_csv(os.path.join(results_folder,'preds_col1.csv'))\n",
    "preds1 = preds1.rename(columns={\"0\":\"Mol1\",\"Solubility\":\"Sol1\"})\n",
    "preds2 = pd.read_csv(os.path.join(results_folder,'preds_col2.csv'))\n",
    "preds2 = preds2.rename(columns={\"1\":\"Mol2\",\"Solubility\":\"Sol2\"})\n",
    "preds_tot = pd.concat((preds1,preds2),axis=1)"
   ]
  },
  {
   "cell_type": "code",
   "execution_count": 33,
   "metadata": {},
   "outputs": [],
   "source": [
    "# Statistics\n",
    "def avg_improvement(df):\n",
    "    avg = np.mean(df['Sol2']-df['Sol1'])\n",
    "    return avg\n",
    "def percent_improved(df):\n",
    "    percent = np.mean([int(x>0) for x in preds_tot['Sol2']-preds_tot['Sol1']])\n",
    "    return percent*100\n",
    "def percent_improved_mae(df,mae=0.788):\n",
    "    percent = np.mean([int(x>mae) for x in preds_tot['Sol2']-preds_tot['Sol1']])\n",
    "    return percent*100\n",
    "def avg_tanimoto(df):\n",
    "    tanimoto = [DataStructs.FingerprintSimilarity(Chem.RDKFingerprint(Chem.MolFromSmiles(x)),Chem.RDKFingerprint(Chem.MolFromSmiles(y))) for x,y in zip(preds_tot['Mol1'].values,preds_tot['Mol2'].values)]\n",
    "    return np.mean(tanimoto)"
   ]
  },
  {
   "cell_type": "code",
   "execution_count": 34,
   "metadata": {},
   "outputs": [
    {
     "name": "stdout",
     "output_type": "stream",
     "text": [
      "-------Summary Statistics-------\n",
      "Average Improvement: 2.6364552373599692\n",
      "Percent Improved: 83.6%\n",
      "Percent Improved Above MAE: 81.39999999999999%\n",
      "Average Tanimoto: 0.25807367296254335\n"
     ]
    }
   ],
   "source": [
    "print('-------Summary Statistics-------')\n",
    "print('Average Improvement: {}'.format(avg_improvement(preds_tot)))\n",
    "print('Percent Improved: {}%'.format(percent_improved(preds_tot)))\n",
    "print('Percent Improved Above MAE: {}%'.format(percent_improved_mae(preds_tot)))\n",
    "print('Average Tanimoto: {}'.format(avg_tanimoto(preds_tot)))"
   ]
  },
  {
   "cell_type": "code",
   "execution_count": null,
   "metadata": {},
   "outputs": [],
   "source": []
  },
  {
   "cell_type": "code",
   "execution_count": null,
   "metadata": {},
   "outputs": [],
   "source": []
  }
 ],
 "metadata": {
  "kernelspec": {
   "display_name": "Python 3",
   "language": "python",
   "name": "python3"
  },
  "language_info": {
   "codemirror_mode": {
    "name": "ipython",
    "version": 3
   },
   "file_extension": ".py",
   "mimetype": "text/x-python",
   "name": "python",
   "nbconvert_exporter": "python",
   "pygments_lexer": "ipython3",
   "version": "3.7.7"
  }
 },
 "nbformat": 4,
 "nbformat_minor": 4
}
